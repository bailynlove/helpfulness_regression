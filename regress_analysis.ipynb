{
 "cells": [
  {
   "cell_type": "code",
   "execution_count": 21,
   "id": "1a461d0c-ac4f-4c6a-9424-443d9b633273",
   "metadata": {
    "execution": {
     "iopub.execute_input": "2024-12-17T08:09:27.661695Z",
     "iopub.status.busy": "2024-12-17T08:09:27.661334Z",
     "iopub.status.idle": "2024-12-17T08:09:49.694100Z",
     "shell.execute_reply": "2024-12-17T08:09:49.693364Z",
     "shell.execute_reply.started": "2024-12-17T08:09:27.661673Z"
    },
    "tags": []
   },
   "outputs": [
    {
     "name": "stdout",
     "output_type": "stream",
     "text": [
      "Looking in indexes: https://mirrors.cloud.aliyuncs.com/pypi/simple\n",
      "Requirement already satisfied: textblob in /usr/local/lib/python3.10/site-packages (0.18.0.post0)\n",
      "Requirement already satisfied: nltk>=3.8 in /usr/local/lib/python3.10/site-packages (from textblob) (3.9.1)\n",
      "Requirement already satisfied: click in /usr/local/lib/python3.10/site-packages (from nltk>=3.8->textblob) (8.1.7)\n",
      "Requirement already satisfied: joblib in /usr/local/lib/python3.10/site-packages (from nltk>=3.8->textblob) (1.4.2)\n",
      "Requirement already satisfied: regex>=2021.8.3 in /usr/local/lib/python3.10/site-packages (from nltk>=3.8->textblob) (2024.11.6)\n",
      "Requirement already satisfied: tqdm in /usr/local/lib/python3.10/site-packages (from nltk>=3.8->textblob) (4.67.0)\n",
      "\u001b[33mDEPRECATION: pytorch-lightning 1.7.7 has a non-standard dependency specifier torch>=1.9.*. pip 24.0 will enforce this behaviour change. A possible replacement is to upgrade to a newer version of pytorch-lightning or contact the author to suggest that they release a version with a conforming dependency specifiers. Discussion can be found at https://github.com/pypa/pip/issues/12063\u001b[0m\u001b[33m\n",
      "\u001b[0m\u001b[33mWARNING: Running pip as the 'root' user can result in broken permissions and conflicting behaviour with the system package manager. It is recommended to use a virtual environment instead: https://pip.pypa.io/warnings/venv\u001b[0m\u001b[33m\n",
      "\u001b[0m\n",
      "\u001b[1m[\u001b[0m\u001b[34;49mnotice\u001b[0m\u001b[1;39;49m]\u001b[0m\u001b[39;49m A new release of pip is available: \u001b[0m\u001b[31;49m23.3.2\u001b[0m\u001b[39;49m -> \u001b[0m\u001b[32;49m24.3.1\u001b[0m\n",
      "\u001b[1m[\u001b[0m\u001b[34;49mnotice\u001b[0m\u001b[1;39;49m]\u001b[0m\u001b[39;49m To update, run: \u001b[0m\u001b[32;49mpip install --upgrade pip\u001b[0m\n"
     ]
    }
   ],
   "source": [
    "!pip install textblob\n",
    "!cp -r ./nltk_data/packages /root/nltk_data\n",
    "\n",
    "# !python -m textblob.download_corpora\n",
    "# import nltk\n",
    "\n",
    "# nltk.download('punkt')\n",
    "# nltk.download('wordnet')\n",
    "# nltk.download('averaged_perceptron_tagger')\n",
    "# /root/nltk_data\n",
    "# !git clone https://github.com/nltk/nltk_data.git\n",
    "# !rm -r /root/nltk_data\n",
    "# !unzip ./nltk_data/packages/tokenizers/punkt_tab.zip\n",
    "# !unzip ./nltk_data/packages/tokenizers/punkt.zip"
   ]
  },
  {
   "cell_type": "code",
   "execution_count": 22,
   "id": "29bc6da1-ec13-443d-b35c-3ecf664b2ee5",
   "metadata": {
    "ExecutionIndicator": {
     "show": false
    },
    "execution": {
     "iopub.execute_input": "2024-12-17T08:09:49.695466Z",
     "iopub.status.busy": "2024-12-17T08:09:49.695156Z",
     "iopub.status.idle": "2024-12-17T08:09:49.698360Z",
     "shell.execute_reply": "2024-12-17T08:09:49.697905Z",
     "shell.execute_reply.started": "2024-12-17T08:09:49.695447Z"
    },
    "tags": []
   },
   "outputs": [],
   "source": [
    "import os\n",
    "\n",
    "import numpy as np\n",
    "import pandas as pd\n",
    "\n",
    "from datetime import datetime\n",
    "from textblob import TextBlob"
   ]
  },
  {
   "cell_type": "markdown",
   "id": "9f639434-f210-484c-8c99-c17c700ee508",
   "metadata": {},
   "source": [
    "# Calculate Aesthetic Quality"
   ]
  },
  {
   "cell_type": "code",
   "execution_count": 23,
   "id": "0069d135-0544-4d66-a9bb-ac4701125bba",
   "metadata": {
    "execution": {
     "iopub.execute_input": "2024-12-17T08:09:49.699127Z",
     "iopub.status.busy": "2024-12-17T08:09:49.698864Z",
     "iopub.status.idle": "2024-12-17T08:09:49.704048Z",
     "shell.execute_reply": "2024-12-17T08:09:49.703615Z",
     "shell.execute_reply.started": "2024-12-17T08:09:49.699111Z"
    },
    "tags": []
   },
   "outputs": [],
   "source": [
    "from torch.utils.data import DataLoader, Dataset\n",
    "import matplotlib.pyplot as plt\n",
    "import matplotlib.image as mpimg\n",
    "import numpy as np\n",
    "import torch.nn as nn\n",
    "from torch.autograd import Variable\n",
    "import torch.nn.functional as F\n",
    "from torchvision import models, transforms\n",
    "from collections import OrderedDict\n",
    "from tqdm import tqdm\n",
    "import pprint\n",
    "import cv2\n",
    "import random\n",
    "import torch\n",
    "import sys\n",
    "%matplotlib inline\n",
    "sys.path.append(\"..\")"
   ]
  },
  {
   "cell_type": "code",
   "execution_count": 24,
   "id": "1fedf9b7-862e-4ac5-b949-f4b862b5d9ff",
   "metadata": {
    "execution": {
     "iopub.execute_input": "2024-12-17T08:09:49.705403Z",
     "iopub.status.busy": "2024-12-17T08:09:49.705172Z",
     "iopub.status.idle": "2024-12-17T08:09:49.708439Z",
     "shell.execute_reply": "2024-12-17T08:09:49.708042Z",
     "shell.execute_reply.started": "2024-12-17T08:09:49.705387Z"
    },
    "tags": []
   },
   "outputs": [
    {
     "data": {
      "text/plain": [
       "False"
      ]
     },
     "execution_count": 24,
     "metadata": {},
     "output_type": "execute_result"
    }
   ],
   "source": [
    "use_cuda = torch.cuda.is_available()\n",
    "use_cuda"
   ]
  },
  {
   "cell_type": "code",
   "execution_count": 25,
   "id": "bda5a7b6-7ea1-40ea-ba1a-30ba9d220ee2",
   "metadata": {
    "execution": {
     "iopub.execute_input": "2024-12-17T08:09:49.709115Z",
     "iopub.status.busy": "2024-12-17T08:09:49.708926Z",
     "iopub.status.idle": "2024-12-17T08:09:49.711377Z",
     "shell.execute_reply": "2024-12-17T08:09:49.710928Z",
     "shell.execute_reply.started": "2024-12-17T08:09:49.709100Z"
    },
    "tags": []
   },
   "outputs": [],
   "source": [
    "from model.resnet_FT import ResNetGAPFeatures as Net\n",
    "from utils.data import read_data, create_dataloader, AestheticsDataset"
   ]
  },
  {
   "cell_type": "markdown",
   "id": "0096d0d4-2ad1-4989-a9c8-a0a66dbb1665",
   "metadata": {},
   "source": [
    "## Load Model and Dataset"
   ]
  },
  {
   "cell_type": "code",
   "execution_count": 26,
   "id": "52790205-5591-4191-ace4-288e12bea58c",
   "metadata": {
    "ExecutionIndicator": {
     "show": true
    },
    "execution": {
     "iopub.execute_input": "2024-12-17T08:09:49.712036Z",
     "iopub.status.busy": "2024-12-17T08:09:49.711847Z",
     "iopub.status.idle": "2024-12-17T08:09:57.049254Z",
     "shell.execute_reply": "2024-12-17T08:09:57.046583Z",
     "shell.execute_reply.started": "2024-12-17T08:09:49.712020Z"
    },
    "tags": []
   },
   "outputs": [
    {
     "name": "stderr",
     "output_type": "stream",
     "text": [
      "/usr/local/lib/python3.10/site-packages/torchvision/models/_utils.py:208: UserWarning: The parameter 'pretrained' is deprecated since 0.13 and may be removed in the future, please use 'weights' instead.\n",
      "  warnings.warn(\n",
      "/usr/local/lib/python3.10/site-packages/torchvision/models/_utils.py:223: UserWarning: Arguments other than a weight enum or `None` for 'weights' are deprecated since 0.13 and may be removed in the future. The current behavior is equivalent to passing `weights=ResNet50_Weights.IMAGENET1K_V1`. You can also use `weights=ResNet50_Weights.DEFAULT` to get the most up-to-date weights.\n",
      "  warnings.warn(msg)\n"
     ]
    }
   ],
   "source": [
    "!cp ./resnet50-0676ba61.pth /root/.cache/torch/hub/checkpoints/resnet50-0676ba61.pth\n",
    "save_path = \"./checkpoint/001\" \n",
    "checkpoint = \"epoch_19.loss_0.40747442577863185.pth\"\n",
    "resnet = models.resnet50(pretrained=True)\n",
    "net = Net(resnet, n_features=12)\n",
    "if use_cuda:\n",
    "    resnet = resnet.cuda()\n",
    "    net = net.cuda()\n",
    "    net.load_state_dict(torch.load(f\"{save_path}/{checkpoint}\"))\n",
    "else:\n",
    "    net.load_state_dict(torch.load(f\"{save_path}/{checkpoint}\", map_location=lambda storage, loc: storage))"
   ]
  },
  {
   "cell_type": "code",
   "execution_count": null,
   "id": "f11883ec-5250-4c64-abf7-c90b96c434b4",
   "metadata": {
    "ExecutionIndicator": {
     "show": true
    },
    "execution": {
     "iopub.execute_input": "2024-12-17T09:32:57.102648Z",
     "iopub.status.busy": "2024-12-17T09:32:57.102301Z"
    },
    "tags": []
   },
   "outputs": [],
   "source": [
    "test = read_data(\"./image_data/review_data_test.csv\", \"../yelp_sfs_15g/res_images\", is_test=True)\n",
    "test_loader = create_dataloader(test, batch_size=1, is_train=False)"
   ]
  },
  {
   "cell_type": "markdown",
   "id": "cc6e5719-9e2d-4320-84e8-25403ff035ee",
   "metadata": {},
   "source": [
    "## Predict"
   ]
  },
  {
   "cell_type": "code",
   "execution_count": null,
   "id": "85143fa5-a96e-4770-a192-ae2ace12e2f8",
   "metadata": {
    "tags": []
   },
   "outputs": [],
   "source": [
    "attr_keys = ['BalacingElements', 'ColorHarmony', 'Content', 'DoF',\n",
    "             'Light', 'MotionBlur', 'Object', 'RuleOfThirds', 'VividColor']\n",
    "non_neg_attr_keys = ['Repetition', 'Symmetry', 'score']\n",
    "all_keys = attr_keys + non_neg_attr_keys\n",
    "used_keys = [\"ColorHarmony\", \"Content\", \"DoF\", \"Object\", \"VividColor\", \"score\"]"
   ]
  },
  {
   "cell_type": "code",
   "execution_count": null,
   "id": "b1128c32-f25e-4f05-b0a1-4d70b17d7fe3",
   "metadata": {
    "tags": []
   },
   "outputs": [],
   "source": [
    "def extract_prediction(inp, net):\n",
    "    d = dict()\n",
    "    net.eval()\n",
    "    output = net(inp)\n",
    "    # print(output)\n",
    "    for i, key in enumerate(all_keys):\n",
    "        # print(output[:, i])\n",
    "        # print(output[:, i].squeeze())\n",
    "        # d[key] = output[:, i].squeeze().data[0]\n",
    "        d[key] = output[:, i].squeeze().item()\n",
    "    return d"
   ]
  },
  {
   "cell_type": "code",
   "execution_count": null,
   "id": "d92c8588-9f4e-4b74-8e01-0806d782f59d",
   "metadata": {
    "tags": []
   },
   "outputs": [],
   "source": [
    "def sample_data(dataset, image_path=None):\n",
    "    idx = random.sample(range(len(dataset)), 1)[0]\n",
    "    return dataset[idx]"
   ]
  },
  {
   "cell_type": "code",
   "execution_count": null,
   "id": "691dce01-528c-4a38-88d3-a0d76e29c892",
   "metadata": {
    "ExecutionIndicator": {
     "show": true
    },
    "tags": []
   },
   "outputs": [],
   "source": [
    "test_dataset = AestheticsDataset(test, is_train=False)\n",
    "\n",
    "aq_df = pd.DataFrame(columns=['review_id', 'image', 'predicted_values'])"
   ]
  },
  {
   "cell_type": "code",
   "execution_count": null,
   "id": "7daa9439-3af1-4f51-bdfe-03be889c6dd0",
   "metadata": {
    "tags": []
   },
   "outputs": [],
   "source": [
    "test_dataset"
   ]
  },
  {
   "cell_type": "code",
   "execution_count": 20,
   "id": "7dc67811-d979-4b9e-91c9-e3ea4ecd7393",
   "metadata": {
    "execution": {
     "iopub.execute_input": "2024-12-17T08:08:45.518953Z",
     "iopub.status.busy": "2024-12-17T08:08:45.518609Z",
     "iopub.status.idle": "2024-12-17T08:08:45.661114Z",
     "shell.execute_reply": "2024-12-17T08:08:45.660229Z",
     "shell.execute_reply.started": "2024-12-17T08:08:45.518934Z"
    },
    "tags": []
   },
   "outputs": [
    {
     "ename": "TypeError",
     "evalue": "can't convert np.ndarray of type numpy.str_. The only supported types are: float64, float32, float16, complex64, complex128, int64, int32, int16, int8, uint64, uint32, uint16, uint8, and bool.",
     "output_type": "error",
     "traceback": [
      "\u001b[0;31m---------------------------------------------------------------------------\u001b[0m",
      "\u001b[0;31mTypeError\u001b[0m                                 Traceback (most recent call last)",
      "Cell \u001b[0;32mIn[20], line 1\u001b[0m\n\u001b[0;32m----> 1\u001b[0m data \u001b[38;5;241m=\u001b[39m \u001b[43mtest_dataset\u001b[49m\u001b[43m[\u001b[49m\u001b[38;5;241;43m0\u001b[39;49m\u001b[43m]\u001b[49m\n\u001b[1;32m      2\u001b[0m image \u001b[38;5;241m=\u001b[39m data[\u001b[38;5;124m'\u001b[39m\u001b[38;5;124mimage\u001b[39m\u001b[38;5;124m'\u001b[39m]\n\u001b[1;32m      3\u001b[0m image_path \u001b[38;5;241m=\u001b[39m data[\u001b[38;5;124m'\u001b[39m\u001b[38;5;124mimage_path\u001b[39m\u001b[38;5;124m'\u001b[39m]\n",
      "File \u001b[0;32m/mnt/workspace/helpness_regress/utils/data.py:75\u001b[0m, in \u001b[0;36mAestheticsDataset.__getitem__\u001b[0;34m(self, i)\u001b[0m\n\u001b[1;32m     73\u001b[0m data_row \u001b[38;5;241m=\u001b[39m \u001b[38;5;28mself\u001b[39m\u001b[38;5;241m.\u001b[39mdf\u001b[38;5;241m.\u001b[39miloc[i]\n\u001b[1;32m     74\u001b[0m img \u001b[38;5;241m=\u001b[39m \u001b[38;5;28mself\u001b[39m\u001b[38;5;241m.\u001b[39mtransform(\u001b[38;5;28mself\u001b[39m\u001b[38;5;241m.\u001b[39mload_img(data_row\u001b[38;5;241m.\u001b[39mimg_path))\n\u001b[0;32m---> 75\u001b[0m targets \u001b[38;5;241m=\u001b[39m \u001b[38;5;28;43mself\u001b[39;49m\u001b[38;5;241;43m.\u001b[39;49m\u001b[43mcreate_targets\u001b[49m\u001b[43m(\u001b[49m\u001b[43mdata_row\u001b[49m\u001b[43m)\u001b[49m\n\u001b[1;32m     76\u001b[0m \u001b[38;5;28;01mreturn\u001b[39;00m {\n\u001b[1;32m     77\u001b[0m     \u001b[38;5;124m\"\u001b[39m\u001b[38;5;124mimage\u001b[39m\u001b[38;5;124m\"\u001b[39m: img,\n\u001b[1;32m     78\u001b[0m     \u001b[38;5;124m\"\u001b[39m\u001b[38;5;124mimage_path\u001b[39m\u001b[38;5;124m\"\u001b[39m: data_row\u001b[38;5;241m.\u001b[39mimg_path,\n\u001b[1;32m     79\u001b[0m     \u001b[38;5;124m\"\u001b[39m\u001b[38;5;124mimage_file\u001b[39m\u001b[38;5;124m\"\u001b[39m: data_row\u001b[38;5;241m.\u001b[39mImageFile,\n\u001b[1;32m     80\u001b[0m     \u001b[38;5;241m*\u001b[39m\u001b[38;5;241m*\u001b[39mtargets\n\u001b[1;32m     81\u001b[0m }\n",
      "File \u001b[0;32m/mnt/workspace/helpness_regress/utils/data.py:55\u001b[0m, in \u001b[0;36mAestheticsDataset.create_targets\u001b[0;34m(self, data_row)\u001b[0m\n\u001b[1;32m     53\u001b[0m     \u001b[38;5;28;01mif\u001b[39;00m k \u001b[38;5;129;01min\u001b[39;00m [\u001b[38;5;124m'\u001b[39m\u001b[38;5;124mImageFile\u001b[39m\u001b[38;5;124m'\u001b[39m, \u001b[38;5;124m'\u001b[39m\u001b[38;5;124mimg_path\u001b[39m\u001b[38;5;124m'\u001b[39m]:\n\u001b[1;32m     54\u001b[0m         \u001b[38;5;28;01mcontinue\u001b[39;00m\n\u001b[0;32m---> 55\u001b[0m     target_dict[k] \u001b[38;5;241m=\u001b[39m \u001b[43mtorch\u001b[49m\u001b[38;5;241;43m.\u001b[39;49m\u001b[43mfrom_numpy\u001b[49m\u001b[43m(\u001b[49m\u001b[43mnp\u001b[49m\u001b[38;5;241;43m.\u001b[39;49m\u001b[43marray\u001b[49m\u001b[43m(\u001b[49m\u001b[43m[\u001b[49m\u001b[43mv\u001b[49m\u001b[43m]\u001b[49m\u001b[43m)\u001b[49m\u001b[43m)\u001b[49m\n\u001b[1;32m     56\u001b[0m \u001b[38;5;28;01mreturn\u001b[39;00m target_dict\n",
      "\u001b[0;31mTypeError\u001b[0m: can't convert np.ndarray of type numpy.str_. The only supported types are: float64, float32, float16, complex64, complex128, int64, int32, int16, int8, uint64, uint32, uint16, uint8, and bool."
     ]
    }
   ],
   "source": [
    "data = test_dataset[0]\n",
    "image = data['image']\n",
    "image_path = data['image_path']\n",
    "image_default = mpimg.imread(image_path)\n",
    "img_shape = image_default.shape\n",
    "h, w = img_shape[0], img_shape[1]\n",
    "inp = Variable(image).unsqueeze(0)\n",
    "net.eval()\n",
    "output = net(inp)\n",
    "output"
   ]
  },
  {
   "cell_type": "code",
   "execution_count": null,
   "id": "e17995d7-660c-44e5-9fb3-afb522189a5b",
   "metadata": {
    "execution": {
     "iopub.status.busy": "2024-12-17T08:08:45.661492Z",
     "iopub.status.idle": "2024-12-17T08:08:45.661716Z",
     "shell.execute_reply": "2024-12-17T08:08:45.661622Z",
     "shell.execute_reply.started": "2024-12-17T08:08:45.661613Z"
    }
   },
   "outputs": [],
   "source": [
    "for i in range(len(test_dataset)):\n",
    "    data = test_dataset[i]\n",
    "    image = data['image']\n",
    "    image_path = data['image_path']\n",
    "    image_default = mpimg.imread(image_path)\n",
    "    img_shape = image_default.shape\n",
    "    h, w = img_shape[0], img_shape[1]\n",
    "    inp = Variable(image).unsqueeze(0)\n",
    "    if use_cuda:\n",
    "        inp = inp.cuda()\n",
    "    predicted_values = extract_prediction(inp, net)\n",
    "    aq_df = pd.concat(\n",
    "        [aq_df, {'review_id': data['review_id'], 'image': data['image'], 'predicted_values': predicted_values}],\n",
    "        axis=1)\n",
    "aq_df"
   ]
  },
  {
   "cell_type": "markdown",
   "id": "eace68c3-a5ec-4160-a663-b057edce938e",
   "metadata": {},
   "source": [
    "# 读取数据和变量构造"
   ]
  },
  {
   "cell_type": "code",
   "execution_count": null,
   "id": "4dbeeae1-d099-4746-9e08-e4c93931ec77",
   "metadata": {
    "ExecutionIndicator": {
     "show": true
    },
    "execution": {
     "iopub.status.busy": "2024-12-17T08:08:45.662400Z",
     "iopub.status.idle": "2024-12-17T08:08:45.662723Z",
     "shell.execute_reply": "2024-12-17T08:08:45.662631Z",
     "shell.execute_reply.started": "2024-12-17T08:08:45.662622Z"
    },
    "tags": []
   },
   "outputs": [],
   "source": [
    "df = pd.read_csv('review_data.csv')\n",
    "df"
   ]
  },
  {
   "cell_type": "code",
   "execution_count": null,
   "id": "66f89cd9-ba46-4a86-acd5-5fdc795f492e",
   "metadata": {
    "ExecutionIndicator": {
     "show": false
    },
    "execution": {
     "iopub.status.busy": "2024-12-17T08:08:45.663269Z",
     "iopub.status.idle": "2024-12-17T08:08:45.663560Z",
     "shell.execute_reply": "2024-12-17T08:08:45.663459Z",
     "shell.execute_reply.started": "2024-12-17T08:08:45.663451Z"
    },
    "tags": []
   },
   "outputs": [],
   "source": [
    "AQ = []  # Aesthetic Quality  sum from p (score_p) / No. of photos of review i\n",
    "AO = []  # Argument Objectivity  1 - subjectivity_i  ranges from 0 to 1\n",
    "SE = []  # Sentiment Extremity   |sentiment_polarity_i - 0.278|  # sentiment polarity ranges from -1 to 1 where 0.278 is the average sentiment across all reviews\n",
    "Type = []  # Type_i = 1 if rating is 4 or 5 stars, else 0 (negative)\n",
    "# Constant \n",
    "HV = []  # Perceived helpfulness. Number of “useful” votes review i received.\n",
    "NoP = []  # Number of photos that review i contains.\n",
    "words = []  # Number of words in the text of review i\n",
    "days = []  # Number of days elapsed since review i was posted.\n",
    "NoF = []  # Number of reviewer u’s friends.\n",
    "NoR = []  # Number of reviews the reviewer u posted.\n",
    "volume = []  # Volume of consumer reviews of restaurant b.\n",
    "rating = []  # Overall consumer rating of restaurant b"
   ]
  },
  {
   "cell_type": "code",
   "execution_count": null,
   "id": "b25eafaf-dfc4-4883-a03c-e04ccc1f89d7",
   "metadata": {
    "ExecutionIndicator": {
     "show": true
    },
    "execution": {
     "iopub.status.busy": "2024-12-17T08:08:45.664052Z",
     "iopub.status.idle": "2024-12-17T08:08:45.664315Z",
     "shell.execute_reply": "2024-12-17T08:08:45.664230Z",
     "shell.execute_reply.started": "2024-12-17T08:08:45.664221Z"
    },
    "tags": []
   },
   "outputs": [],
   "source": [
    "v_df = pd.DataFrame()\n",
    "# 计算 subjectivity 和 polarity\n",
    "v_df['subjectivity'] = df['review'].apply(lambda x: TextBlob(x).sentiment.subjectivity)\n",
    "v_df['polarity'] = df['review'].apply(lambda x: TextBlob(x).sentiment.polarity)\n",
    "\n",
    "# 计算 AO 和 SE\n",
    "v_df['AO'] = 1 - v_df['subjectivity']  # Argument Objectivity  1 - subjectivity_i  ranges from 0 to 1\n",
    "v_df['SE'] = abs(v_df['polarity'] - 0.278)  # Sentiment Extremity   |sentiment_polarity_i - 0.278|  # sentiment polarity ranges from -1 to 1 where 0.278 is the average sentiment across all reviews\n",
    "# Type_i = 1 if rating is 4 or 5 stars, else 0 (negative)\n",
    "v_df['Type'] = np.where(df['rating'] >= 4, 1, 0)\n",
    "# Perceived helpfulness. Number of “useful” votes review i received.\n",
    "v_df['HV'] = df['helpfulness_votes']\n",
    "# Number of photos that review i contains.\n",
    "v_df['NoP'] = df['photo_ids'].str.split(',').str.len()  # v_df['NoP'] = df['photo_ids'].apply(lambda x: len(x.split(',')))\n",
    "# Number of words in the text of review i\n",
    "v_df['words'] = df['review'].apply(lambda x: TextBlob(x).words)\n",
    "# Number of days elapsed since review i was posted.\n",
    "v_df['days'] = (datetime.now() - pd.to_datetime(df['review_time'], format='%m/%d/%Y')).dt.days\n",
    "# Number of reviewer u’s friends.\n",
    "v_df['NoF'] = df['user_friend_count']\n",
    "# Number of reviews the reviewer u posted.\n",
    "v_df['NoR'] = df['user_review_count']\n",
    "# Volume of consumer reviews of restaurant b.\n",
    "v_df['volume_b'] = data['business_review_count']\n",
    "# Overall consumer rating of restaurant b\n",
    "v_df['rating'] = data['business_rating']"
   ]
  },
  {
   "cell_type": "code",
   "execution_count": null,
   "id": "b54dbdd9-7558-4cda-97ec-c39a954adc0f",
   "metadata": {
    "execution": {
     "iopub.status.busy": "2024-12-17T08:08:45.664843Z",
     "iopub.status.idle": "2024-12-17T08:08:45.665073Z",
     "shell.execute_reply": "2024-12-17T08:08:45.664992Z",
     "shell.execute_reply.started": "2024-12-17T08:08:45.664983Z"
    },
    "tags": []
   },
   "outputs": [],
   "source": [
    " v_df.columns"
   ]
  },
  {
   "cell_type": "markdown",
   "id": "db2ffb14-f301-4fc0-8fdb-430184845ca9",
   "metadata": {},
   "source": [
    "## 对数缩放和z-score正则化"
   ]
  },
  {
   "cell_type": "code",
   "execution_count": null,
   "id": "4e44de56-8c29-4de7-83b5-9158102fab58",
   "metadata": {
    "execution": {
     "iopub.status.busy": "2024-12-17T08:08:45.665555Z",
     "iopub.status.idle": "2024-12-17T08:08:45.665725Z",
     "shell.execute_reply": "2024-12-17T08:08:45.665649Z",
     "shell.execute_reply.started": "2024-12-17T08:08:45.665642Z"
    }
   },
   "outputs": [],
   "source": [
    "# 对数变换：避免对数0，增加一个很小的常数\n",
    "for col in v_df.columns:\n",
    "    v_df[col] = np.log(v_df[col] + 1e-6)"
   ]
  },
  {
   "cell_type": "code",
   "execution_count": null,
   "id": "058759d3-e1fc-40a8-9f3d-4f2ad91edae4",
   "metadata": {
    "ExecutionIndicator": {
     "show": false
    },
    "execution": {
     "iopub.status.busy": "2024-12-17T08:08:45.666283Z",
     "iopub.status.idle": "2024-12-17T08:08:45.666454Z",
     "shell.execute_reply": "2024-12-17T08:08:45.666377Z",
     "shell.execute_reply.started": "2024-12-17T08:08:45.666370Z"
    },
    "tags": []
   },
   "outputs": [],
   "source": [
    "\n",
    "# res_dict = {}\n",
    "# for index, data in data_dict.items():\n",
    "#     text = data.get('review')\n",
    "#     blob = TextBlob(text)\n",
    "#     subjectivity_i = blob.sentiment.subjectivity\n",
    "#     polarity_i = blob.sentiment.polarity\n",
    "#     scale_dict = {\n",
    "#         'AO': 1 - subjectivity_i,\n",
    "#         'SE': abs(polarity_i - 0.278),\n",
    "#         'Type': 1 if data['rating'] > 4 else 0,\n",
    "#         'HV': data['helpfulness_votes'],\n",
    "#         'NoP': len(data['photo_ids'].split(',')),\n",
    "#         'words': len(blob.words),\n",
    "#         'days': (datetime.now() - datetime.strptime(data['review_time'], '%m/%d/%Y')).days,\n",
    "#         'NoF': data['user_friend_count'],\n",
    "#         'NoR': data['user_review_count'],\n",
    "#         'volume_b': data['business_review_count'],\n",
    "#         'rating': data['business_rating']\n",
    "#     }\n",
    "#     res_dict[data['review_id']] = scale_dict\n",
    "#     if index == 0:\n",
    "#         print(scale_dict)\n",
    "\n",
    "# def calculate_variables(data):\n",
    "#     text = data.get('review')\n",
    "#     blob = TextBlob(text)\n",
    "#     subjectivity_i = blob.sentiment.subjectivity\n",
    "#     polarity_i = blob.sentiment.polarity\n",
    "#     scale_dict = {\n",
    "#         'AO': 1 - subjectivity_i,\n",
    "#         'SE': abs(polarity_i - 0.278),\n",
    "#         'Type': 1 if data['rating'] > 4 else 0,\n",
    "#         'HV': data['helpfulness_votes'],\n",
    "#         'NoP': len(data['photo_ids'].split(',')),\n",
    "#         'words': len(blob.words),\n",
    "#         'days': (datetime.now() - datetime.strptime(data['review_time'], '%m/%d/%Y')).days,\n",
    "#         'NoF': data['user_friend_count'],\n",
    "#         'NoR': data['user_review_count'],\n",
    "#         'volume_b': data['business_review_count'],\n",
    "#         'rating': data['business_rating']\n",
    "#     }\n",
    "#     return scale_dict\n",
    "\n",
    "# variable_list = list(map(calculate_variables, data_dict.values()))\n",
    "# variable_frame = pd.DataFrame(variable_list)"
   ]
  }
 ],
 "metadata": {
  "kernelspec": {
   "display_name": "Python 3 (ipykernel)",
   "language": "python",
   "name": "python3"
  },
  "language_info": {
   "codemirror_mode": {
    "name": "ipython",
    "version": 3
   },
   "file_extension": ".py",
   "mimetype": "text/x-python",
   "name": "python",
   "nbconvert_exporter": "python",
   "pygments_lexer": "ipython3",
   "version": "3.10.14"
  }
 },
 "nbformat": 4,
 "nbformat_minor": 5
}
